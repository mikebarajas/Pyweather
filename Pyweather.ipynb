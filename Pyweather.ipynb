{
 "cells": [
  {
   "cell_type": "code",
   "execution_count": 7,
   "metadata": {
    "collapsed": true
   },
   "outputs": [],
   "source": [
    "# Dependencies\n",
    "import matplotlib.pyplot as plt\n",
    "import requests as req\n",
    "import pandas as pd\n",
    "import json\n",
    "import random\n",
    "from citipy import citipy\n",
    "import openweathermapy.core as ow"
   ]
  },
  {
   "cell_type": "code",
   "execution_count": 87,
   "metadata": {
    "collapsed": true
   },
   "outputs": [],
   "source": [
    "# Create settings dictionary with information we're interested in\n",
    "api_key = \"5122f939cf627bb76328497044ab5df3\"\n",
    "settings = {\"units\": \"imperial\", \"appid\": api_key}\n",
    "weather_data = []"
   ]
  },
  {
   "cell_type": "code",
   "execution_count": 88,
   "metadata": {},
   "outputs": [
    {
     "data": {
      "text/plain": [
       "1000"
      ]
     },
     "execution_count": 88,
     "metadata": {},
     "output_type": "execute_result"
    }
   ],
   "source": [
    "# Pull 500 Randomly Generated City Coordinates\n",
    "lat = []\n",
    "lon = []\n",
    "cities = set([])\n",
    "\n",
    "# While loop will populate cities set until it reaches 500 non repeating cities\n",
    "while len(cities) < 1000: #Use this when you are finally ready to run program for 500 cities  \n",
    "    lati = (random.randrange(-90,90,1))\n",
    "    long = (random.randrange(-180,180,1))\n",
    "    city = citipy.nearest_city(lati,long)\n",
    "    city = city.city_name\n",
    "    lat.append(lat)\n",
    "    lon.append(long)\n",
    "    cities.add(city)\n",
    "\n",
    "cities = list(cities)"
   ]
  },
  {
   "cell_type": "code",
   "execution_count": null,
   "metadata": {},
   "outputs": [
    {
     "name": "stdout",
     "output_type": "stream",
     "text": [
      "toftir : not found   HTTP Error 404: Not Found\n",
      "toliary : not found   HTTP Error 404: Not Found\n",
      "nam tha : not found   HTTP Error 404: Not Found\n",
      "amderma : not found   HTTP Error 404: Not Found\n",
      "khasan : not found   HTTP Error 404: Not Found\n",
      "belushya guba : not found   HTTP Error 404: Not Found\n",
      "sinjah : not found   HTTP Error 404: Not Found\n",
      "bac can : not found   HTTP Error 404: Not Found\n",
      "payo : not found   HTTP Error 404: Not Found\n",
      "falealupo : not found   HTTP Error 404: Not Found\n",
      "mullaitivu : not found   HTTP Error 404: Not Found\n",
      "biak : not found   HTTP Error 404: Not Found\n",
      "paradwip : not found   HTTP Error 404: Not Found\n",
      "burica : not found   HTTP Error 404: Not Found\n",
      "samalaeulu : not found   HTTP Error 404: Not Found\n",
      "acapulco : not found   HTTP Error 404: Not Found\n",
      "formoso do araguaia : not found   HTTP Error 404: Not Found\n",
      "marzuq : not found   HTTP Error 404: Not Found\n",
      "tawnat : not found   HTTP Error 404: Not Found\n",
      "chagda : not found   HTTP Error 404: Not Found\n",
      "aflu : not found   HTTP Error 404: Not Found\n",
      "nguiu : not found   HTTP Error 404: Not Found\n",
      "ituni : not found   HTTP Error 404: Not Found\n",
      "itarema : not found   HTTP Error 404: Not Found\n",
      "halalo : not found   HTTP Error 404: Not Found\n",
      "rawannawi : not found   HTTP Error 404: Not Found\n",
      "loubomo : not found   HTTP Error 404: Not Found\n",
      "warqla : not found   HTTP Error 404: Not Found\n",
      "tasbuget : not found   HTTP Error 404: Not Found\n",
      "saleaula : not found   HTTP Error 404: Not Found\n",
      "da nang : not found   HTTP Error 404: Not Found\n",
      "buariki : not found   HTTP Error 404: Not Found\n",
      "tubruq : not found   HTTP Error 404: Not Found\n",
      "falaleu : not found   HTTP Error 404: Not Found\n",
      "haibowan : not found   HTTP Error 404: Not Found\n",
      "rungata : not found   HTTP Error 404: Not Found\n",
      "labrea : not found   HTTP Error 404: Not Found\n",
      "marcona : not found   HTTP Error 404: Not Found\n",
      "fenoarivo : not found   HTTP Error 404: Not Found\n",
      "santa eulalia del rio : not found   HTTP Error 404: Not Found\n",
      "tanete : not found   HTTP Error 404: Not Found\n",
      "bur gabo : not found   HTTP Error 404: Not Found\n",
      "gardan diwal : not found   HTTP Error 404: Not Found\n",
      "makung : not found   HTTP Error 404: Not Found\n",
      "soyo : not found   HTTP Error 404: Not Found\n",
      "kawhia : not found   HTTP Error 404: Not Found\n",
      "jarjis : not found   HTTP Error 404: Not Found\n",
      "raudeberg : not found   HTTP Error 404: Not Found\n",
      "sakakah : not found   HTTP Error 404: Not Found\n",
      "satitoa : not found   HTTP Error 404: Not Found\n",
      "zhezkazgan : not found   HTTP Error 404: Not Found\n",
      "akyab : not found   HTTP Error 404: Not Found\n",
      "damphu : not found   HTTP Error 404: Not Found\n",
      "dinsor : not found   HTTP Error 404: Not Found\n"
     ]
    }
   ],
   "source": [
    "# Create a list to store JSONs of the weather data results and start a counter to run through randomly generated cities\n",
    "weather_data = []\n",
    "counter = []\n",
    "count = 0\n",
    "\n",
    "# Run a for loop that runs through the list of cities\n",
    "for city in cities:\n",
    "    if count < 500:\n",
    "        try:\n",
    "            data = ow.get_current(city, **settings)\n",
    "            weather_data.append(data)\n",
    "            count = count + 1\n",
    "            counter.append(count)\n",
    "        except Exception as e:\n",
    "            print(city, \": not found  \", e)\n",
    "            continue\n",
    "            \n",
    "            \n",
    "# Generate a data frame from 500 callable cities    \n",
    "summary = [\"name\", \"dt\",\"sys.country\",\"coord.lat\", \"coord.lon\", \"main.temp_max\", \"main.humidity\", \"clouds.all\", \"wind.speed\"]\n",
    "data = [response(*summary) for response in weather_data]\n",
    "column_names = [\"City\", \"Time\", \"Country\", \"Latitude\", \"Longitude\", \"Temperature\", \"Humidity\", \"Cloud Coverage\", \"Wind Speed\"]\n",
    "weather_data = pd.DataFrame(data, index = counter, columns=column_names)\n"
   ]
  },
  {
   "cell_type": "code",
   "execution_count": 90,
   "metadata": {},
   "outputs": [],
   "source": [
    "# Generate a print out list of cities\n",
    "cities_list = weather_data\n",
    "cities_list.to_csv(\"Cities_Output.csv\")\n"
   ]
  },
  {
   "cell_type": "code",
   "execution_count": 91,
   "metadata": {},
   "outputs": [
    {
     "data": {
      "image/png": "[encoded data removed]",
      "text/plain": [
       "<matplotlib.figure.Figure at 0x16c0970c320>"
      ]
     },
     "metadata": {},
     "output_type": "display_data"
    }
   ],
   "source": [
    "\n",
    "# Build a scatter plot for lat v. temp\n",
    "plt.scatter(weather_data[\"Latitude\"], weather_data[\"Temperature\"], marker=\"o\")\n",
    "\n",
    "# Incorporate the other graph properties\n",
    "plt.title(\"City Latitude vs. Max Temperature\")\n",
    "plt.ylabel(\"Temperature(F)\")\n",
    "plt.xlabel(\"Latitude\")\n",
    "plt.grid(True)\n",
    "\n",
    "# Save the figure\n",
    "plt.savefig(\"LatvMaxTemp.png\")\n",
    "\n",
    "# Show plot\n",
    "plt.show()"
   ]
  },
  {
   "cell_type": "code",
   "execution_count": 92,
   "metadata": {},
   "outputs": [
    {
     "data": {
      "image/png": "[encoded data removed]",
      "text/plain": [
       "<matplotlib.figure.Figure at 0x16c09453dd8>"
      ]
     },
     "metadata": {},
     "output_type": "display_data"
    }
   ],
   "source": [
    "# Build a scatter plot for lat v. humidity\n",
    "plt.scatter(weather_data[\"Humidity\"], weather_data[\"Latitude\"], marker=\"o\")\n",
    "\n",
    "# Incorporate the other graph properties\n",
    "plt.title(\"City Latitude v. Humidity\")\n",
    "plt.ylabel(\"Humidity (%)\")\n",
    "plt.xlabel(\"Latitude\")\n",
    "plt.grid(True)\n",
    "\n",
    "# Save the figure\n",
    "plt.savefig(\"LatvHum.png\")\n",
    "\n",
    "# Show plot\n",
    "plt.show()"
   ]
  },
  {
   "cell_type": "code",
   "execution_count": 93,
   "metadata": {},
   "outputs": [
    {
     "data": {
      "image/png": "[encoded data removed]",
      "text/plain": [
       "<matplotlib.figure.Figure at 0x16c0975bdd8>"
      ]
     },
     "metadata": {},
     "output_type": "display_data"
    }
   ],
   "source": [
    "# Build a scatter plot for temp v. cloudiness\n",
    "plt.scatter(weather_data[\"Cloud Coverage\"], weather_data[\"Latitude\"], marker=\"o\")\n",
    "\n",
    "# Incorporate the other graph properties\n",
    "plt.title(\"City Laitude v. Cloudiness\")\n",
    "plt.ylabel(\"Cloudiness (%)\")\n",
    "plt.xlabel(\"Latitude\")\n",
    "plt.grid(True)\n",
    "\n",
    "# Save the figure\n",
    "plt.savefig(\"LatvCloudiness.png\")\n",
    "\n",
    "# Show plot\n",
    "plt.show()"
   ]
  },
  {
   "cell_type": "code",
   "execution_count": 94,
   "metadata": {},
   "outputs": [
    {
     "data": {
      "image/png": "[encoded data removed]",
      "text/plain": [
       "<matplotlib.figure.Figure at 0x16c079d0048>"
      ]
     },
     "metadata": {},
     "output_type": "display_data"
    }
   ],
   "source": [
    "# Build a scatter plot for temp v. wind speed\n",
    "plt.scatter(weather_data[\"Wind Speed\"], weather_data[\"Latitude\"], marker=\"o\")\n",
    "\n",
    "# Incorporate the other graph properties\n",
    "plt.title(\"City Latitude v. Wind Speed\")\n",
    "plt.ylabel(\"Wind Speed (mph)\")\n",
    "plt.xlabel(\"Latitude\")\n",
    "plt.grid(True)\n",
    "\n",
    "# Save the figure\n",
    "plt.savefig(\"LatvWind.png\")\n",
    "\n",
    "# Show plot\n",
    "plt.show()"
   ]
  },
  {
   "cell_type": "code",
   "execution_count": null,
   "metadata": {},
   "outputs": [],
   "source": []
  },
  {
   "cell_type": "code",
   "execution_count": null,
   "metadata": {
    "collapsed": true
   },
   "outputs": [],
   "source": []
  }
 ],
 "metadata": {
  "kernelspec": {
   "display_name": "Python 3",
   "language": "python",
   "name": "python3"
  },
  "language_info": {
   "codemirror_mode": {
    "name": "ipython",
    "version": 3
   },
   "file_extension": ".py",
   "mimetype": "text/x-python",
   "name": "python",
   "nbconvert_exporter": "python",
   "pygments_lexer": "ipython3",
   "version": "3.6.2"
  }
 },
 "nbformat": 4,
 "nbformat_minor": 2
}
